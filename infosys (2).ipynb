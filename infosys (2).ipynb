{
 "cells": [
  {
   "cell_type": "markdown",
   "id": "0efbf057-9ba3-4aa4-85ac-487ab49b4228",
   "metadata": {},
   "source": [
    "PROJECT: AIR AWARE SMART AIR QUALITY PREDICTION SYSTEM"
   ]
  },
  {
   "cell_type": "markdown",
   "id": "16f0df51-1f58-4916-a088-67257cb8e917",
   "metadata": {},
   "source": [
    "=> Collect air quality data from sensors/APIs (CPCB)\n",
    "\n",
    "=> Preprocess and analyze data to identify pollution trends.\n",
    "\n",
    "=> Predict Air Quality \n",
    "\n",
    "=> Provide alerts & recommendations for health safety."
   ]
  },
  {
   "cell_type": "markdown",
   "id": "472e3779-7df5-4d59-b2ee-d4d6a32d041f",
   "metadata": {},
   "source": [
    "Module 1: Data Preprocessing & EDA. \n",
    "Download and preprocess air quality datasets.(CPCB, Open AQ). \n",
    "Conduct EDA to understand pollutant trends and correlations.\n",
    "Resample data and prepare features for forecasting\n",
    "\n",
    "\n",
    "Module 1: Data Preprocessing & EDA\n",
    "1. Data Collection\n",
    "\n",
    "Datasets:\n",
    "\n",
    "CPCB (Central Pollution Control Board – India)\n",
    "\n",
    "OpenAQ (Global open-source air quality data)\n",
    "\n",
    "Pollutants Monitored: PM2.5, PM10, NO2, SO2, CO, O3, NH3, AQI.\n",
    "\n",
    "Additional Features: Weather data (temperature, humidity, rainfall, wind speed).\n",
    "\n",
    "2. Data Preprocessing\n",
    "\n",
    "Cleaning\n",
    "\n",
    "Handle missing values → interpolation, mean/median imputation, forward/backward fill.\n",
    "\n",
    "Remove duplicates.\n",
    "\n",
    "Standardize pollutant units .\n",
    "\n",
    "Date-Time Handling\n",
    "\n",
    "Convert timestamp column to datetime object.\n",
    "\n",
    "Extract Hour, Day, Month, Season, Weekday as features.\n",
    "\n",
    "Outlier Treatment\n",
    "\n",
    "Detect via Z-score or IQR.\n",
    "\n",
    "Visualize using boxplots.\n",
    "\n",
    "Resampling\n",
    "\n",
    "Raw data is often minute-wise/hourly → resample into:\n",
    "\n",
    "Hourly averages (short-term prediction).\n",
    "\n",
    "Daily averages (long-term trends).\n",
    "\n",
    "3. Exploratory Data Analysis (EDA)\n",
    "\n",
    "Univariate Analysis\n",
    "\n",
    "Distribution plots for each pollutant.\n",
    "\n",
    "Identify seasonal patterns (e.g., winter smog, summer dust).\n",
    "\n",
    "Bivariate/Multivariate Analysis\n",
    "\n",
    "Correlation heatmap (e.g., PM2.5 strongly correlated with PM10).\n",
    "\n",
    "Scatterplots for pollutant vs pollutant.\n",
    "\n",
    "Time-Series Trends\n",
    "\n",
    "Line charts for pollutants across time.\n",
    "\n",
    "Detect peaks during traffic hours/festivals/weather changes.\n",
    "\n",
    "Geographical EDA (if multi-city data)\n",
    "\n",
    "Compare AQI levels city-wise.\n",
    "\n",
    "4. Feature Engineering for Forecasting\n",
    "\n",
    "Lag Features\n",
    "\n",
    "Previous hour/day pollutant values.\n",
    "\n",
    "Rolling Features\n",
    "\n",
    "Moving average, rolling standard deviation.\n",
    "\n",
    "Time Features\n",
    "\n",
    "Hour of day, day of week, season, holiday indicators.\n",
    "\n",
    "External Features\n",
    "\n",
    "Weather variables (temperature, humidity, wind, rainfall).\n",
    "\n",
    "Target Variable\n",
    "\n",
    "AQI (calculated from pollutants) or a specific pollutant (e.g., PM2.5).\n",
    "\n",
    "5. Outcome of Module 1\n",
    "\n",
    "=> Clean dataset free from missing values & outliers.\n",
    "=> Resampled time-series data (hourly/daily).\n",
    "=> Insights into pollutant patterns & correlations.\n",
    "=> Feature-rich dataset ready for forecasting models."
   ]
  },
  {
   "cell_type": "code",
   "execution_count": null,
   "id": "e44370dc-fbc4-4313-9970-d1b52a8515f3",
   "metadata": {},
   "outputs": [],
   "source": []
  },
  {
   "cell_type": "markdown",
   "id": "902c5599-e580-492b-a600-f97f5a6706c2",
   "metadata": {},
   "source": [
    "LIBRARY: Collection of modules, pre-written code\n",
    "\n",
    "FRAMEWORK: It provides a pre-defined structure and set of rules for building software or application.\n",
    "\n",
    "NUMPY & PANDAS: For numerical computations.\n",
    "\n",
    "SOFTWARE: The set of instructions to perform a specific task. It will tell hardware what to do.\n",
    "1). System software: OS(Operating System), MAC OS\n",
    "2). Application Software: MS Word, Web Browser\n",
    "3). Programming Software: For compilers by using C, JAVA...we create a programming software.\n",
    "\n",
    "PROGRAMMING: Writing instructions to create software.. It ia a language to communicate with computers.\n"
   ]
  },
  {
   "cell_type": "markdown",
   "id": "ec8a819f-b60d-4c7b-93e1-c3e998046fc6",
   "metadata": {},
   "source": [
    "WHY PYTHON:\n",
    "\n",
    "=> Easy to learn and powerful tool.\n",
    "\n",
    "=> Platform independent.\n",
    "\n",
    "=> Having many libraries\n",
    "\n",
    "=> Portable, Flexible, Versatile.\n",
    "\n",
    "=> Variables stored in the form of key-value pairs.\n",
    "\n",
    "=> Data is stored in variables.\n",
    "\n",
    "=> It is case-sensitive language."
   ]
  },
  {
   "cell_type": "markdown",
   "id": "a135f139-72ac-4cd9-a047-6317667c549c",
   "metadata": {},
   "source": [
    "DATA TYPES:\n",
    "\n",
    "DATA TYPES: INTEGER, FLOAT, STRING, BOOLEAN, LIST, TUPLE, SET, DICTIONARY\n",
    "\n",
    "Assigning a value to variable is called initialization.\n",
    "\n",
    "Declaring a variable is called Declaration.\n",
    "\n",
    "10,-1,100 -> INTEGER\n",
    "\n",
    "10.0,4.0  -> FLOAT\n",
    "\n",
    "True and False  -> Boolean\n",
    "\n",
    "For visualization -> frontend(Client Side)\n",
    "\n",
    "For operations -> backend(Server Side)\n",
    "\n",
    "For Storing -> Databases(Digital Storage Room)\n",
    "\n",
    "FRONTEND: The part of a software/website the users can see and interact with UI(User Interface)\n",
    "\n",
    "BACKEND: The server side logic that processes requests and runs the app.\n",
    "\n",
    "DATABASE: Databases stores and manages data used by thr backend."
   ]
  },
  {
   "cell_type": "code",
   "execution_count": null,
   "id": "614bef6e-25b2-4ac9-9201-1202ef0af817",
   "metadata": {},
   "outputs": [],
   "source": []
  },
  {
   "cell_type": "markdown",
   "id": "5f94ac59-4932-4b18-b0de-965ea86b2d2a",
   "metadata": {},
   "source": [
    "STRING CONCATENATION"
   ]
  },
  {
   "cell_type": "code",
   "execution_count": 3,
   "id": "2e987ffe-1709-492f-9c6f-bd919c20cd69",
   "metadata": {},
   "outputs": [
    {
     "name": "stdout",
     "output_type": "stream",
     "text": [
      "Hello world\n"
     ]
    }
   ],
   "source": [
    "a = \"Hello\"+ \" \" +\"world\"\n",
    "print(a)"
   ]
  },
  {
   "cell_type": "code",
   "execution_count": 23,
   "id": "f48977d8-219a-4a01-8e74-246d1793ffb2",
   "metadata": {},
   "outputs": [
    {
     "ename": "TypeError",
     "evalue": "unsupported operand type(s) for +: 'int' and 'str'",
     "output_type": "error",
     "traceback": [
      "\u001b[1;31m---------------------------------------------------------------------------\u001b[0m",
      "\u001b[1;31mTypeError\u001b[0m                                 Traceback (most recent call last)",
      "Cell \u001b[1;32mIn[23], line 1\u001b[0m\n\u001b[1;32m----> 1\u001b[0m a\u001b[38;5;241m=\u001b[39m\u001b[38;5;241m2\u001b[39m\u001b[38;5;241m+\u001b[39m\u001b[38;5;124m\"\u001b[39m\u001b[38;5;124mhello\u001b[39m\u001b[38;5;124m\"\u001b[39m        \u001b[38;5;66;03m# not possible to concatenate coz integer + string\u001b[39;00m\n\u001b[0;32m      2\u001b[0m \u001b[38;5;28mprint\u001b[39m(a)\n",
      "\u001b[1;31mTypeError\u001b[0m: unsupported operand type(s) for +: 'int' and 'str'"
     ]
    }
   ],
   "source": [
    "a=2+\"hello\"        # not possible to concatenate coz integer + string\n",
    "print(a)"
   ]
  },
  {
   "cell_type": "code",
   "execution_count": 11,
   "id": "e8700498-926e-451a-8738-dac4fc13cd44",
   "metadata": {},
   "outputs": [
    {
     "name": "stdout",
     "output_type": "stream",
     "text": [
      "rrrrrrrrrr\n"
     ]
    }
   ],
   "source": [
    "a=\"r\" * 10;\n",
    "print(a)"
   ]
  },
  {
   "cell_type": "code",
   "execution_count": 15,
   "id": "3468977b-f0a2-4873-8308-cce33a3f7338",
   "metadata": {},
   "outputs": [
    {
     "name": "stdin",
     "output_type": "stream",
     "text": [
      " akash\n"
     ]
    },
    {
     "name": "stdout",
     "output_type": "stream",
     "text": [
      "5\n"
     ]
    }
   ],
   "source": [
    "user = input();       # if we used input() by default it take it as a string.. if we convert from one data type to another data t\n",
    "length = len(user);\n",
    "print(length)"
   ]
  },
  {
   "cell_type": "code",
   "execution_count": 23,
   "id": "6eb92bc6-c9ac-49b0-922f-47d545f43d00",
   "metadata": {},
   "outputs": [
    {
     "name": "stdin",
     "output_type": "stream",
     "text": [
      " akash\n",
      " 20\n"
     ]
    },
    {
     "name": "stdout",
     "output_type": "stream",
     "text": [
      "akash is 20 years of old\n"
     ]
    }
   ],
   "source": [
    "user = input();\n",
    "age = input();\n",
    "print(user + \" is \" + age + \" years of old\");"
   ]
  },
  {
   "cell_type": "code",
   "execution_count": 27,
   "id": "c069cee1-f621-4874-990b-0a5a97b56178",
   "metadata": {},
   "outputs": [
    {
     "name": "stdout",
     "output_type": "stream",
     "text": [
      "v\n"
     ]
    }
   ],
   "source": [
    "username = \"ravi\"\n",
    "first_let = username[2];      # STRING INDEXING\n",
    "print(first_let);"
   ]
  },
  {
   "cell_type": "code",
   "execution_count": 35,
   "id": "a85f4d52-2b20-4579-b347-7c10595bf9e7",
   "metadata": {},
   "outputs": [
    {
     "name": "stdout",
     "output_type": "stream",
     "text": [
      "ravi\n",
      "ravi\n",
      "Hi\n",
      "Hi ravi\n"
     ]
    }
   ],
   "source": [
    "message = 'Hi ravi';\n",
    "part = message[3:7];        # STRING SLICING\n",
    "print(part);                # print up to n-1 values\n",
    "\n",
    "message = 'Hi ravi';\n",
    "part = message[3:];        # STRING SLICING\n",
    "print(part);\n",
    "\n",
    "\n",
    "message = 'Hi ravi';\n",
    "part = message[:2];        # STRING SLICING\n",
    "print(part);\n",
    "\n",
    "\n",
    "\n",
    "message = 'Hi ravi';\n",
    "part = message[:];        # STRING SLICING\n",
    "print(part);"
   ]
  },
  {
   "cell_type": "code",
   "execution_count": 41,
   "id": "3995d4f9-27e0-4364-a91f-1d7bbdf5656e",
   "metadata": {},
   "outputs": [
    {
     "name": "stdout",
     "output_type": "stream",
     "text": [
      "<class 'int'>\n",
      "<class 'str'>\n"
     ]
    }
   ],
   "source": [
    "print(type(10));          # CHECKING DATA TYPES\n",
    "print(type(\"akash\"));"
   ]
  },
  {
   "cell_type": "code",
   "execution_count": 43,
   "id": "6065f006-aaf4-40e6-8db2-0e0020e0cf89",
   "metadata": {},
   "outputs": [
    {
     "name": "stdin",
     "output_type": "stream",
     "text": [
      " 20\n",
      " 20\n"
     ]
    },
    {
     "name": "stdout",
     "output_type": "stream",
     "text": [
      "40\n"
     ]
    }
   ],
   "source": [
    "a = int(input())\n",
    "b = int(input())\n",
    "c = a + b\n",
    "print(c)"
   ]
  },
  {
   "cell_type": "code",
   "execution_count": 71,
   "id": "0ea5b9c8-f581-4b36-ad01-f5f3ab357390",
   "metadata": {},
   "outputs": [
    {
     "name": "stdin",
     "output_type": "stream",
     "text": [
      " 6\n"
     ]
    },
    {
     "name": "stdout",
     "output_type": "stream",
     "text": [
      "6  is Even\n"
     ]
    }
   ],
   "source": [
    "# Q.WRITE A PROGRAM TO FIND WHTHER A NUMBER IS EVEN OR ODD\n",
    "\n",
    "n = int(input())\n",
    "if(n%2==0):\n",
    "    print(n,\" is Even\")\n",
    "else:\n",
    "    print(n,\" is Odd\")"
   ]
  },
  {
   "cell_type": "code",
   "execution_count": 81,
   "id": "01cdc25c-e89f-4e26-900c-ab79eb7b27de",
   "metadata": {},
   "outputs": [
    {
     "name": "stdin",
     "output_type": "stream",
     "text": [
      " 4\n",
      " 5\n"
     ]
    },
    {
     "name": "stdout",
     "output_type": "stream",
     "text": [
      "18\n"
     ]
    }
   ],
   "source": [
    "# Q. WRITE A PROGRAM TO FIND PERIMETER OF RECTANGLE\n",
    "\n",
    "l = int(input())   # length\n",
    "b = int(input())   # breadth\n",
    "a = (2 * (l+b))    # area\n",
    "print(a)"
   ]
  },
  {
   "cell_type": "markdown",
   "id": "5d6d0703-0085-488e-b479-14d1d757347f",
   "metadata": {},
   "source": [
    "OPERATORS\n",
    "\n",
    "Perform mathematical calculations."
   ]
  },
  {
   "cell_type": "code",
   "execution_count": 4,
   "id": "2940165f-aacf-485e-83fa-a7f840246bcc",
   "metadata": {},
   "outputs": [
    {
     "name": "stdout",
     "output_type": "stream",
     "text": [
      "True\n",
      "True\n"
     ]
    }
   ],
   "source": [
    "print(2<5);\n",
    "print(1<2);"
   ]
  },
  {
   "cell_type": "code",
   "execution_count": 6,
   "id": "56840cf2-e597-42e7-9bc0-66fb0cb92bf8",
   "metadata": {},
   "outputs": [
    {
     "name": "stdout",
     "output_type": "stream",
     "text": [
      "False\n"
     ]
    }
   ],
   "source": [
    "print(\"ABC\"==\"abc\");"
   ]
  },
  {
   "cell_type": "code",
   "execution_count": 27,
   "id": "8fb9f457-f368-4935-bdf4-b7de0ab51e73",
   "metadata": {},
   "outputs": [
    {
     "name": "stdin",
     "output_type": "stream",
     "text": [
      " 4\n"
     ]
    },
    {
     "name": "stdout",
     "output_type": "stream",
     "text": [
      "Not divisible by 3 and 5\n"
     ]
    }
   ],
   "source": [
    "# LOGICAL OPERATORS\n",
    "# and, or, not\n",
    "\n",
    "a=int(input());\n",
    "if(a%5==0 and a%3==0):\n",
    "    print(\"Divisible by3 and 5\");\n",
    "else:\n",
    "    print(\"Not divisible by 3 and 5\");"
   ]
  },
  {
   "cell_type": "code",
   "execution_count": 29,
   "id": "793dd5f4-e838-4812-8621-163a25cf6516",
   "metadata": {},
   "outputs": [
    {
     "name": "stdin",
     "output_type": "stream",
     "text": [
      " died\n"
     ]
    },
    {
     "name": "stdout",
     "output_type": "stream",
     "text": [
      "surya meets priya\n"
     ]
    }
   ],
   "source": []
  },
  {
   "cell_type": "markdown",
   "id": "182f0206-56c5-4e08-a9ab-73247117772f",
   "metadata": {},
   "source": [
    "CONDITIONAL STATEMENTS"
   ]
  },
  {
   "cell_type": "code",
   "execution_count": 17,
   "id": "527f89f2-1918-4c67-affd-266f39e53bcf",
   "metadata": {},
   "outputs": [
    {
     "name": "stdout",
     "output_type": "stream",
     "text": [
      "yes\n",
      "no\n",
      "False\n"
     ]
    }
   ],
   "source": [
    "if(True):\n",
    "    print(\"yes\");\n",
    "else:\n",
    "    print(\"no\");\n",
    "\n",
    "\n",
    "\n",
    "if(False):\n",
    "    print(\"yes\");\n",
    "else:\n",
    "    print(\"no\");\n",
    "\n",
    "\n",
    "\n",
    "print(\"win\"==\"Win\");"
   ]
  },
  {
   "cell_type": "code",
   "execution_count": 21,
   "id": "d9a769af-1860-4f7e-94e1-b56dd290c522",
   "metadata": {},
   "outputs": [
    {
     "name": "stdin",
     "output_type": "stream",
     "text": [
      " Win\n"
     ]
    },
    {
     "name": "stdout",
     "output_type": "stream",
     "text": [
      "No Trophy\n"
     ]
    }
   ],
   "source": [
    "india = input();\n",
    "if(india==\"win\"):\n",
    "   print(\"Trophy is ours\");\n",
    "else:\n",
    "    print(\"No Trophy\");"
   ]
  },
  {
   "cell_type": "code",
   "execution_count": 31,
   "id": "556e6a49-9fd9-48e6-9dae-43f85d86cb67",
   "metadata": {},
   "outputs": [
    {
     "name": "stdin",
     "output_type": "stream",
     "text": [
      " died\n"
     ]
    },
    {
     "name": "stdout",
     "output_type": "stream",
     "text": [
      "surya meets priya\n"
     ]
    }
   ],
   "source": [
    "# create a variable meghana condition if meghana died it should print (surya meets priya) if meghana not died it should print(meghana weds priya)\n",
    "\n",
    "meghana = input();\n",
    "if(meghana==\"died\"):\n",
    "    print(\"surya meets priya\");\n",
    "else:\n",
    "    print(\"meghana weds surya\");"
   ]
  },
  {
   "cell_type": "code",
   "execution_count": 39,
   "id": "c8c28a08-b75d-43d0-9690-91a079014a57",
   "metadata": {},
   "outputs": [
    {
     "name": "stdin",
     "output_type": "stream",
     "text": [
      " 35\n"
     ]
    }
   ],
   "source": [
    "score = int(input());\n",
    "if(score<35):\n",
    "    print(\"poor student\");\n",
    "elif(score>35 and score<70):\n",
    "    print(\"average student\");\n",
    "elif(score>35 and score<100):\n",
    "    print(\"Good student\");"
   ]
  },
  {
   "cell_type": "markdown",
   "id": "32c8580f-57d1-4e45-a422-d23c228e3427",
   "metadata": {},
   "source": []
  },
  {
   "cell_type": "code",
   "execution_count": 44,
   "id": "4bbec53e-ed01-4f78-aefd-de76dacbefcf",
   "metadata": {},
   "outputs": [
    {
     "name": "stdout",
     "output_type": "stream",
     "text": [
      "hello world\n",
      "hello world\n",
      "hello world\n",
      "hello world\n",
      "hello world\n",
      "hello world\n",
      "hello world\n",
      "hello world\n",
      "hello world\n",
      "hello world\n",
      "hello world\n",
      "hello world\n",
      "hello world\n",
      "hello world\n",
      "hello world\n",
      "hello world\n",
      "hello world\n",
      "hello world\n",
      "hello world\n",
      "hello world\n"
     ]
    }
   ],
   "source": [
    "for i in range(20):\n",
    "    print(\"hello world\");"
   ]
  },
  {
   "cell_type": "markdown",
   "id": "7cbf7e71-bdcb-486f-8948-17891a19a5a6",
   "metadata": {},
   "source": [
    "How to implement while block\n",
    "\n",
    "Step-1: initialization\n",
    "step-2: while termination_condition:\n",
    "step-3: block of code\n",
    "step-4: updation"
   ]
  },
  {
   "cell_type": "code",
   "execution_count": 47,
   "id": "b8719c16-d7f7-4c20-a866-b723636c633d",
   "metadata": {},
   "outputs": [
    {
     "name": "stdin",
     "output_type": "stream",
     "text": [
      " 5\n"
     ]
    },
    {
     "name": "stdout",
     "output_type": "stream",
     "text": [
      "6\n",
      "7\n",
      "8\n"
     ]
    }
   ],
   "source": [
    "a = int(input());\n",
    "counter = 0;\n",
    "while counter<3:\n",
    "    a=a+1;\n",
    "    print(a);\n",
    "    counter = counter+1;"
   ]
  },
  {
   "cell_type": "code",
   "execution_count": 52,
   "id": "ffd9271d-eef6-445d-8001-0ff4b31a5f73",
   "metadata": {},
   "outputs": [
    {
     "name": "stdout",
     "output_type": "stream",
     "text": [
      "p\n",
      "y\n",
      "t\n",
      "h\n",
      "o\n",
      "n\n"
     ]
    }
   ],
   "source": [
    "word = \"python\";\n",
    "for each_char in word:\n",
    "    print(each_char);"
   ]
  },
  {
   "cell_type": "code",
   "execution_count": 54,
   "id": "9e4b63ee-2968-46c0-9325-122c65a31e79",
   "metadata": {},
   "outputs": [
    {
     "name": "stdout",
     "output_type": "stream",
     "text": [
      "0\n",
      "1\n",
      "2\n",
      "3\n",
      "4\n",
      "5\n",
      "6\n",
      "7\n",
      "8\n",
      "9\n"
     ]
    }
   ],
   "source": [
    "for i in range(10):\n",
    "    print(i);"
   ]
  },
  {
   "cell_type": "code",
   "execution_count": 41,
   "id": "f3b83149-0eec-4a68-8162-b70bcb6decfc",
   "metadata": {},
   "outputs": [
    {
     "name": "stdout",
     "output_type": "stream",
     "text": [
      "1\n",
      "2\n",
      "3\n",
      "4\n",
      "5\n",
      "6\n",
      "7\n",
      "8\n",
      "9\n",
      "10\n",
      "11\n",
      "12\n",
      "13\n",
      "14\n",
      "15\n",
      "16\n",
      "17\n"
     ]
    }
   ],
   "source": [
    "for i in range(1,18):\n",
    "    print(i);"
   ]
  },
  {
   "cell_type": "code",
   "execution_count": 60,
   "id": "8d1c9214-2096-4701-9f05-385628fe373e",
   "metadata": {},
   "outputs": [
    {
     "name": "stdout",
     "output_type": "stream",
     "text": [
      "2 x  1  =  2\n",
      "2 x  2  =  4\n",
      "2 x  3  =  6\n",
      "2 x  4  =  8\n",
      "2 x  5  =  10\n",
      "2 x  6  =  12\n",
      "2 x  7  =  14\n",
      "2 x  8  =  16\n",
      "2 x  9  =  18\n",
      "2 x  10  =  20\n"
     ]
    }
   ],
   "source": [
    "for i in range(1,11):\n",
    "    print(\"2 x \", i, \" = \", 2*i);"
   ]
  },
  {
   "cell_type": "markdown",
   "id": "f8769b55-8de4-490b-9c13-73a9b9087e96",
   "metadata": {},
   "source": [
    "Q. Write a program to print sum of 1st five natural numbers."
   ]
  },
  {
   "cell_type": "code",
   "execution_count": 73,
   "id": "cc87b61c-6e3e-45d3-b300-a4a5fadca6c3",
   "metadata": {},
   "outputs": [
    {
     "name": "stdout",
     "output_type": "stream",
     "text": [
      "sum of first 5 natural numbers is 15\n"
     ]
    }
   ],
   "source": [
    "sum = 0\n",
    "for i in range(1,6):\n",
    "    sum = sum+i;\n",
    "print(\"sum of first 5 natural numbers is\",sum);"
   ]
  },
  {
   "cell_type": "code",
   "execution_count": 71,
   "id": "2cc49a4f-cfab-452c-a733-319c83fb8388",
   "metadata": {},
   "outputs": [
    {
     "name": "stdin",
     "output_type": "stream",
     "text": [
      " 5\n",
      " 20\n"
     ]
    },
    {
     "name": "stdout",
     "output_type": "stream",
     "text": [
      "96\n"
     ]
    }
   ],
   "source": [
    "m = int(input());         # printing the sum of odd numbers between range\n",
    "n = int(input());\n",
    "sum = 0;\n",
    "for each in range(m,n+1):\n",
    "    if(each%2==1):\n",
    "        sum = sum + each;\n",
    "print(sum);\n"
   ]
  },
  {
   "cell_type": "code",
   "execution_count": 75,
   "id": "cdf47f64-7242-4c5c-9d6b-b1b9716516a0",
   "metadata": {},
   "outputs": [
    {
     "name": "stdout",
     "output_type": "stream",
     "text": [
      "1\n",
      "2\n",
      "3\n",
      "4\n",
      "5\n",
      "6\n",
      "7\n",
      "8\n"
     ]
    }
   ],
   "source": [
    "a = [1,2,3,4,5,6,7,8]\n",
    "for i in a:\n",
    "    print(i);"
   ]
  },
  {
   "cell_type": "code",
   "execution_count": 81,
   "id": "dd52c69c-ded7-48c8-9c64-57dac6a0d8d4",
   "metadata": {},
   "outputs": [
    {
     "name": "stdout",
     "output_type": "stream",
     "text": [
      "10 2 4 "
     ]
    }
   ],
   "source": [
    "a = [10,3,5,2,4,9,7];\n",
    "for num in a:\n",
    "    if num%2==0:\n",
    "        print(num, end = \" \");"
   ]
  },
  {
   "cell_type": "markdown",
   "id": "da3e7ba8-3a97-4d03-89b9-1329c9fe2e0b",
   "metadata": {},
   "source": [
    "LOOPS"
   ]
  },
  {
   "cell_type": "code",
   "execution_count": 4,
   "id": "78e8186b-473c-4a9c-b166-712cdba894eb",
   "metadata": {},
   "outputs": [
    {
     "name": "stdout",
     "output_type": "stream",
     "text": [
      "1 Apple\n",
      "2 Apple\n",
      "1 Apple\n",
      "2 Apple\n",
      "1 Apple\n",
      "2 Apple\n",
      "1 Apple\n",
      "2 Apple\n",
      "1 Apple\n",
      "2 Apple\n"
     ]
    }
   ],
   "source": [
    "for i in range(1,6):\n",
    "    for j in range(1,3):\n",
    "        print(j,\"Apple\");\n",
    "        "
   ]
  },
  {
   "cell_type": "code",
   "execution_count": 10,
   "id": "c6036f0d-6c4a-4a72-86a9-6671a59986ee",
   "metadata": {},
   "outputs": [
    {
     "name": "stdout",
     "output_type": "stream",
     "text": [
      "week: 1\n",
      "day: 1\n",
      "day: 2\n",
      "day: 3\n",
      "week: 2\n",
      "day: 1\n",
      "day: 2\n",
      "day: 3\n"
     ]
    }
   ],
   "source": [
    "for i in range(1,3):\n",
    "    print(\"week:\",i);\n",
    "    for j in range(1,4):\n",
    "        print(\"day:\",j);"
   ]
  },
  {
   "cell_type": "code",
   "execution_count": 16,
   "id": "17e7b1bd-5a94-4a0f-b06e-e3fa9df1eadd",
   "metadata": {},
   "outputs": [
    {
     "name": "stdout",
     "output_type": "stream",
     "text": [
      "\n",
      "1\n",
      "12\n",
      "123\n",
      "1234"
     ]
    }
   ],
   "source": [
    "for i in range(1,5):\n",
    "    print();\n",
    "    for j in range(1,i+1):\n",
    "        print(j,end=\"\");"
   ]
  },
  {
   "cell_type": "code",
   "execution_count": 146,
   "id": "e3dcc37d-a7df-414c-a4ee-2774cb3e6414",
   "metadata": {},
   "outputs": [
    {
     "name": "stdout",
     "output_type": "stream",
     "text": [
      "1\n",
      "2\n",
      "3\n",
      "4\n",
      "5\n"
     ]
    }
   ],
   "source": [
    "i=1;\n",
    "while(i<6):\n",
    "    print(i)\n",
    "    i = i +1;"
   ]
  },
  {
   "cell_type": "code",
   "execution_count": 26,
   "id": "42d96db8-1c97-44a8-b6b3-08486f60e557",
   "metadata": {},
   "outputs": [
    {
     "name": "stdout",
     "output_type": "stream",
     "text": [
      "0\n",
      "1\n",
      "2\n",
      "End\n"
     ]
    }
   ],
   "source": [
    "# 26-08-2025\n",
    "# Break Statement\n",
    "for i in range(5):\n",
    "    if i==3:\n",
    "        break\n",
    "    print(i);\n",
    "print(\"End\");"
   ]
  },
  {
   "cell_type": "code",
   "execution_count": null,
   "id": "7492b853-3240-4268-9849-a72bccb10b84",
   "metadata": {},
   "outputs": [],
   "source": [
    "msg = \"-r-a-v-i-\";\n",
    "print(msg[1:8:2]);\n"
   ]
  },
  {
   "cell_type": "code",
   "execution_count": null,
   "id": "6fd8eecb-b3af-4989-bff3-8a9b24e857ae",
   "metadata": {},
   "outputs": [],
   "source": [
    "is_digit = \"42367\".isdigit()\n",
    "print()"
   ]
  },
  {
   "cell_type": "code",
   "execution_count": 30,
   "id": "9f6b1035-41d6-4bfc-afb4-01b5648dbf66",
   "metadata": {},
   "outputs": [
    {
     "name": "stdout",
     "output_type": "stream",
     "text": [
      "0\n",
      "1\n",
      "2\n",
      "4\n",
      "End\n"
     ]
    }
   ],
   "source": [
    "# Continue Statement\n",
    "for i in range(5):\n",
    "    if i==3:\n",
    "        continue\n",
    "    print(i);\n",
    "print(\"End\");"
   ]
  },
  {
   "cell_type": "code",
   "execution_count": 32,
   "id": "e4f5647e-1e48-46c0-8938-010b72ace9ff",
   "metadata": {},
   "outputs": [],
   "source": [
    "# Pass\n",
    "for i in range(10):\n",
    "    pass          # we will not face any error eventhough the code is not full."
   ]
  },
  {
   "cell_type": "markdown",
   "id": "0f30d53a-75f5-4839-b084-92e7a8893d11",
   "metadata": {},
   "source": [
    "STRING INBUILD FUNCTIONS"
   ]
  },
  {
   "cell_type": "code",
   "execution_count": 41,
   "id": "87728712-3aa3-4130-a1f2-5b2c8dbc7948",
   "metadata": {},
   "outputs": [
    {
     "name": "stdout",
     "output_type": "stream",
     "text": [
      "True\n",
      "False\n"
     ]
    }
   ],
   "source": [
    "is_alpha=\"Rahul\".isalpha()   # all the characters are alphabet or not\n",
    "print(is_alpha);\n",
    "is_alphhaa=\"Rahul@\".isalpha()   # all the characters are alphabet or not\n",
    "print(is_alphhaa);"
   ]
  },
  {
   "cell_type": "code",
   "execution_count": 49,
   "id": "1caccd21-e611-4850-a3b6-8e80eb0a1848",
   "metadata": {},
   "outputs": [
    {
     "name": "stdout",
     "output_type": "stream",
     "text": [
      "True\n",
      "False\n"
     ]
    }
   ],
   "source": [
    "#islower\n",
    "is_lower=\"hii ragavi\".islower()    # all the characters are lower or not\n",
    "print(is_lower);\n",
    "\n",
    "#islower\n",
    "is_upper=\"Hii ragavi\".isupper()    # all the characters are lower or not\n",
    "print(is_upper);"
   ]
  },
  {
   "cell_type": "code",
   "execution_count": 59,
   "id": "a053085d-b1ab-41aa-b3bf-6a5ee34e2fb9",
   "metadata": {},
   "outputs": [
    {
     "name": "stdout",
     "output_type": "stream",
     "text": [
      "True\n",
      "False\n"
     ]
    }
   ],
   "source": [
    "#isalnum\n",
    "is_alnum=\"Rahul123\".isalnum()\n",
    "print(is_alnum)\n",
    "\n",
    "is_allnnum=\"Rahul@123\".isalnum()\n",
    "print(is_allnnum)"
   ]
  },
  {
   "cell_type": "code",
   "execution_count": 71,
   "id": "3a06fc0d-9f19-4219-82a8-bf8a924cc3aa",
   "metadata": {},
   "outputs": [
    {
     "name": "stdout",
     "output_type": "stream",
     "text": [
      "The Planet Is Big\n",
      "The planet is big\n"
     ]
    }
   ],
   "source": [
    "cap = \"the planet is big\".title()\n",
    "print(cap);\n",
    "\n",
    "capp = \"the planet is big\".capitalize()\n",
    "print(capp);"
   ]
  },
  {
   "cell_type": "code",
   "execution_count": 65,
   "id": "0452b160-88aa-4b29-9231-3713594f432e",
   "metadata": {},
   "outputs": [
    {
     "name": "stdout",
     "output_type": "stream",
     "text": [
      "rAm is RaVi\n"
     ]
    }
   ],
   "source": [
    "swap = \"RaM IS rAvI\".swapcase()\n",
    "print(swap);"
   ]
  },
  {
   "cell_type": "code",
   "execution_count": 81,
   "id": "096d1881-39ed-4679-b034-dbf4db3cf0a8",
   "metadata": {},
   "outputs": [
    {
     "name": "stdout",
     "output_type": "stream",
     "text": [
      "3\n",
      "2\n"
     ]
    }
   ],
   "source": [
    "# Counting and Searching method\n",
    "text = \"Hello, World!\"       # count the characters how many times repeated\n",
    "count = text.count(\"l\")\n",
    "print(count)\n",
    "\n",
    "\n",
    "text = \"Hello, World!\"       # count the characters how many times repeated\n",
    "count = text.count(\"l\",2,10)   # we can also give range\n",
    "print(count)"
   ]
  },
  {
   "cell_type": "code",
   "execution_count": 85,
   "id": "e4c95b7e-b632-48e8-b22d-c5e5cacb193c",
   "metadata": {},
   "outputs": [
    {
     "name": "stdout",
     "output_type": "stream",
     "text": [
      "15\n"
     ]
    }
   ],
   "source": [
    "text = \"I have a spare key, if I lose my key\"\n",
    "count = text.index(\"key\")     # give index number of first occurence of string\n",
    "print(count)"
   ]
  },
  {
   "cell_type": "code",
   "execution_count": 87,
   "id": "11f1db0e-6866-4699-8b73-5d38b429c026",
   "metadata": {},
   "outputs": [
    {
     "name": "stdout",
     "output_type": "stream",
     "text": [
      "33\n"
     ]
    }
   ],
   "source": [
    "text = \"I have a spare key, if I lose my key\"\n",
    "count = text.rindex(\"key\")     # give index number of last occurence of string\n",
    "print(count)"
   ]
  },
  {
   "cell_type": "code",
   "execution_count": 97,
   "id": "c7da1a94-5142-4ef6-bd7e-699ec40b9ce1",
   "metadata": {},
   "outputs": [
    {
     "name": "stdout",
     "output_type": "stream",
     "text": [
      "15\n",
      "-1\n",
      "33\n"
     ]
    }
   ],
   "source": [
    "text = \"I have a spare key, if I lose my key\"\n",
    "count = text.find(\"key\")     # give index number of first occurence of string\n",
    "print(count)\n",
    "\n",
    "\n",
    "text = \"I have a spare key, if I lose my key\"\n",
    "count = text.find(\"hsg\")     # give -1 \n",
    "print(count)\n",
    "\n",
    "text = \"I have a spare key, if I lose my key\"\n",
    "count = text.rfind(\"key\")     # give index number of last occurence of string\n",
    "print(count)"
   ]
  },
  {
   "cell_type": "code",
   "execution_count": 36,
   "id": "6f50d071-1769-4f1c-a66e-d333318bebfb",
   "metadata": {},
   "outputs": [
    {
     "name": "stdout",
     "output_type": "stream",
     "text": [
      "3\n"
     ]
    }
   ],
   "source": [
    "a = 1\n",
    "a+=2\n",
    "print(a)"
   ]
  },
  {
   "cell_type": "markdown",
   "id": "19c4a50b-33ba-41ed-8596-2621741e5742",
   "metadata": {},
   "source": [
    "GIT AND GITHUB\n",
    "\n",
    "For Initializing -> git init \n",
    "\n",
    "2. for adding -> git add .\n",
    "\n",
    "3. for checking status -> git status\n",
    "\n",
    "4. for commiting -> git commit -m \"Initial commit\" \n",
    "\n",
    "5. for push -> git push -u origin main"
   ]
  },
  {
   "cell_type": "code",
   "execution_count": null,
   "id": "cba605f2-3f3c-4732-a635-3403a3c2d896",
   "metadata": {},
   "outputs": [],
   "source": []
  },
  {
   "cell_type": "code",
   "execution_count": null,
   "id": "d5a56ae1-914c-4811-9cf8-a5cb4b825420",
   "metadata": {},
   "outputs": [],
   "source": []
  },
  {
   "cell_type": "markdown",
   "id": "32e90137-c6e7-4cf5-9e77-3a841b0fe069",
   "metadata": {},
   "source": [
    "HOME WORK QUESTIONS (ASSIGNMENT)"
   ]
  },
  {
   "cell_type": "code",
   "execution_count": 5,
   "id": "39b50889-e283-495e-9fd3-dc558dbf37bd",
   "metadata": {},
   "outputs": [
    {
     "name": "stdin",
     "output_type": "stream",
     "text": [
      "Enter a number N:  5\n"
     ]
    },
    {
     "name": "stdout",
     "output_type": "stream",
     "text": [
      " 1   2   3   4   5  \n",
      " 6   7   8   9  10  \n",
      "11  12  13  14  15  \n",
      "16  17  18  19  20  \n",
      "21  22  23  24  25  \n"
     ]
    }
   ],
   "source": [
    "# Write program that reads a number N and prints square of N rows  and  N columns using numbers starting from 1\n",
    "\n",
    "\n",
    "N = int(input(\"Enter a number N: \"));\n",
    "\n",
    "num = 1\n",
    "width = len(str(N * N))   # find width of the largest number\n",
    "\n",
    "for i in range(N):               \n",
    "    for j in range(N):            \n",
    "        print(f\"{num:{width}}\", end=\"  \")   # print the number inside a column of fixed width (width = max digits), and keep printing in the same line until row ends.\n",
    "        num += 1\n",
    "    print()                       # new line after each row\n",
    "                     \n"
   ]
  },
  {
   "cell_type": "code",
   "execution_count": null,
   "id": "d151510f-b438-45ee-a171-6482b97f90ac",
   "metadata": {},
   "outputs": [],
   "source": []
  },
  {
   "cell_type": "code",
   "execution_count": 7,
   "id": "0dc350c8-5153-47e4-af70-0c90f4d49793",
   "metadata": {},
   "outputs": [
    {
     "name": "stdin",
     "output_type": "stream",
     "text": [
      "Enter a number N:  5\n"
     ]
    },
    {
     "name": "stdout",
     "output_type": "stream",
     "text": [
      "First Triangle:\n",
      "  1\n",
      "  2  3\n",
      "  4  5  6\n",
      "  7  8  9 10\n",
      " 11 12 13 14 15\n",
      "Second Triangle:\n",
      "              1\n",
      "           2  3\n",
      "        4  5  6\n",
      "     7  8  9 10\n",
      " 11 12 13 14 15\n"
     ]
    }
   ],
   "source": [
    "# Write a program that reads a number N and prints two Right Angled Triangles of N rows, using numbers starting from 1.\n",
    "\n",
    "N = int(input(\"Enter a number N: \"))\n",
    "\n",
    "# Find the largest number to decide spacing\n",
    "max_num = N * (N + 1) // 2\n",
    "width = len(str(max_num)) + 1   # +1 for spacing\n",
    "\n",
    "# First Triangle (Left aligned)\n",
    "print(\"First Triangle:\")\n",
    "num = 1\n",
    "for i in range(1, N + 1):\n",
    "    for j in range(i):\n",
    "        print(f\"{num:{width}}\", end=\"\")\n",
    "        num += 1\n",
    "    print()\n",
    "\n",
    "# Second Triangle (Right aligned)\n",
    "print(\"Second Triangle:\")\n",
    "num = 1\n",
    "for i in range(1, N + 1):\n",
    "    print(\" \" * ((N - i) * width), end=\"\")  # spaces before numbers\n",
    "    for j in range(i):\n",
    "        print(f\"{num:{width}}\", end=\"\")\n",
    "        num += 1\n",
    "    print()\n",
    "\n"
   ]
  },
  {
   "cell_type": "code",
   "execution_count": null,
   "id": "d4d13315-b4c4-4fd6-b4c6-865c3302d29d",
   "metadata": {},
   "outputs": [],
   "source": []
  },
  {
   "cell_type": "code",
   "execution_count": 9,
   "id": "a7065e92-3d97-48c9-967e-93ca7a8d9e58",
   "metadata": {},
   "outputs": [
    {
     "name": "stdin",
     "output_type": "stream",
     "text": [
      "Enter a number:  5\n"
     ]
    },
    {
     "name": "stdout",
     "output_type": "stream",
     "text": [
      "Factorial of 5 is: 120\n"
     ]
    }
   ],
   "source": [
    "# Write a program to print the factorial of N Factorial is the product of all positive integers less than or equal to N\n",
    "\n",
    "N = int(input(\"Enter a number: \"))\n",
    "\n",
    "fact = 1   # start with 1, since multiplying by 0 would make it 0\n",
    "for i in range(1, N + 1):\n",
    "    fact *= i   # multiply fact by i each time\n",
    "\n",
    "print(f\"Factorial of {N} is: {fact}\")\n"
   ]
  },
  {
   "cell_type": "code",
   "execution_count": null,
   "id": "70d3e8b2-c4f3-4ea7-8e82-2101a03ebc34",
   "metadata": {},
   "outputs": [],
   "source": []
  },
  {
   "cell_type": "code",
   "execution_count": 13,
   "id": "d14711c8-ec33-4f8a-b07b-365c39d2dd69",
   "metadata": {},
   "outputs": [
    {
     "name": "stdin",
     "output_type": "stream",
     "text": [
      "Enter a string:  Akash@rishi\n"
     ]
    },
    {
     "name": "stdout",
     "output_type": "stream",
     "text": [
      "Number of vowels in the string is 4\n"
     ]
    }
   ],
   "source": [
    "# Write a program that reads a string and prints the count of vowels in the string.\n",
    "\n",
    "\n",
    "text = input(\"Enter a string: \")\n",
    "\n",
    "vowels = \"aeiouAEIOU\"   \n",
    "count = 0\n",
    "\n",
    "for ch in text:\n",
    "    if ch in vowels:\n",
    "        count += 1\n",
    "\n",
    "print(\"Number of vowels in the string is\", count)\n"
   ]
  },
  {
   "cell_type": "code",
   "execution_count": null,
   "id": "38657221-fa1d-404e-bd6a-29804fc5e083",
   "metadata": {},
   "outputs": [],
   "source": []
  },
  {
   "cell_type": "code",
   "execution_count": 1,
   "id": "8e6a328c-ab1a-4b69-800f-f59d10745312",
   "metadata": {},
   "outputs": [
    {
     "name": "stdin",
     "output_type": "stream",
     "text": [
      "Enter the number X:  3\n",
      "Enter the number of terms N:  3\n"
     ]
    },
    {
     "name": "stdout",
     "output_type": "stream",
     "text": [
      "Sum of series is 111987\n"
     ]
    }
   ],
   "source": [
    "# Given two numbers X and N, write a program to print the sum of N terms in the given series.\n",
    " \n",
    "# Series:(x)^2, (xx)^2, (xxx)², N terms\n",
    "\n",
    "X = int(input(\"Enter the number X: \"))\n",
    "N = int(input(\"Enter the number of terms N: \"))\n",
    "\n",
    "term = \"\"   # to build numbers like \"2\", \"22\", \"222\" etc.\n",
    "total = 0\n",
    "\n",
    "for i in range(1, N + 1):\n",
    "    term += str(X)        # build the number by repeating X\n",
    "    num = int(term)       # convert string to integer\n",
    "    total += num * num    # square it and add to total\n",
    "\n",
    "print(\"Sum of series is\", total)\n"
   ]
  },
  {
   "cell_type": "code",
   "execution_count": null,
   "id": "1f9ff7b9-2f01-4305-ad61-3bc10dd1e02a",
   "metadata": {},
   "outputs": [],
   "source": []
  },
  {
   "cell_type": "code",
   "execution_count": 15,
   "id": "8dc50328-8390-4a06-a89b-e7a013c754b9",
   "metadata": {},
   "outputs": [
    {
     "name": "stdin",
     "output_type": "stream",
     "text": [
      "Enter a string:  akash@7989\n"
     ]
    },
    {
     "name": "stdout",
     "output_type": "stream",
     "text": [
      "Alphabets in the string: akash\n"
     ]
    }
   ],
   "source": [
    "# Given a string, write program to print only alphabets in the given string\n",
    "\n",
    "text = input(\"Enter a string: \")\n",
    "\n",
    "result = \"\"\n",
    "for ch in text:\n",
    "    if ch.isalpha():   # checks if character is an alphabet\n",
    "        result += ch\n",
    "\n",
    "print(\"Alphabets in the string:\", result);"
   ]
  },
  {
   "cell_type": "code",
   "execution_count": null,
   "id": "a951b6ef-e600-4583-b41d-e69c4e383a09",
   "metadata": {},
   "outputs": [],
   "source": []
  },
  {
   "cell_type": "code",
   "execution_count": 17,
   "id": "9c8503ec-1486-441e-8481-8aa77701090f",
   "metadata": {},
   "outputs": [
    {
     "name": "stdin",
     "output_type": "stream",
     "text": [
      "Enter a string:  AkaSH@RiShI\n"
     ]
    },
    {
     "name": "stdout",
     "output_type": "stream",
     "text": [
      "Uppercase letters in the string: ASHRSI\n"
     ]
    }
   ],
   "source": [
    "# Given string write program that prints all the uppercase letters of the string\n",
    "\n",
    "text = input(\"Enter a string: \")\n",
    "\n",
    "result = \"\"\n",
    "for ch in text:\n",
    "    if ch.isupper():   # checks if character is uppercase\n",
    "        result += ch\n",
    "\n",
    "print(\"Uppercase letters in the string:\", result);\n"
   ]
  },
  {
   "cell_type": "code",
   "execution_count": null,
   "id": "c13eb8c0-924c-45db-8f5a-bd3e80e97b20",
   "metadata": {},
   "outputs": [],
   "source": []
  },
  {
   "cell_type": "code",
   "execution_count": 21,
   "id": "c529b432-83fb-4abe-8fd0-2abe9511e351",
   "metadata": {},
   "outputs": [
    {
     "name": "stdin",
     "output_type": "stream",
     "text": [
      "Enter first number:  8\n",
      "Enter second number:  9\n"
     ]
    },
    {
     "name": "stdout",
     "output_type": "stream",
     "text": [
      "Select operation:\n",
      "1. Addition (+)\n",
      "2. Subtraction (-)\n",
      "3. Multiplication (*)\n",
      "4. Division (/)\n"
     ]
    },
    {
     "name": "stdin",
     "output_type": "stream",
     "text": [
      "Enter choice (1/2/3/4):  2\n"
     ]
    },
    {
     "name": "stdout",
     "output_type": "stream",
     "text": [
      "Result: -1.0\n"
     ]
    }
   ],
   "source": [
    "# Simple Calculator using Python\n",
    "\n",
    "num1 = float(input(\"Enter first number: \"))\n",
    "num2 = float(input(\"Enter second number: \"))\n",
    "\n",
    "print(\"Select operation:\")\n",
    "print(\"1. Addition (+)\")\n",
    "print(\"2. Subtraction (-)\")\n",
    "print(\"3. Multiplication (*)\")\n",
    "print(\"4. Division (/)\")\n",
    "\n",
    "choice = input(\"Enter choice (1/2/3/4): \")\n",
    "\n",
    "if choice == '1' or choice == '+':\n",
    "    print(\"Result:\", num1 + num2)\n",
    "elif choice == '2' or choice == '-':\n",
    "    print(\"Result:\", num1 - num2)\n",
    "elif choice == '3' or choice == '*':\n",
    "    print(\"Result:\", num1 * num2)\n",
    "elif choice == '4' or choice == '/':\n",
    "    if num2 != 0:\n",
    "        print(\"Result:\", num1 / num2)\n",
    "    else:\n",
    "        print(\"Error: Division by zero not allowed!\")\n",
    "else:\n",
    "    print(\"Invalid input!\")\n"
   ]
  },
  {
   "cell_type": "code",
   "execution_count": null,
   "id": "3ac1016e-74bd-4047-8510-395949cfd884",
   "metadata": {},
   "outputs": [],
   "source": []
  },
  {
   "cell_type": "code",
   "execution_count": null,
   "id": "ec71a10c-efb5-4ad2-a7c3-d56848e29ebd",
   "metadata": {},
   "outputs": [],
   "source": []
  }
 ],
 "metadata": {
  "kernelspec": {
   "display_name": "Python [conda env:base] *",
   "language": "python",
   "name": "conda-base-py"
  },
  "language_info": {
   "codemirror_mode": {
    "name": "ipython",
    "version": 3
   },
   "file_extension": ".py",
   "mimetype": "text/x-python",
   "name": "python",
   "nbconvert_exporter": "python",
   "pygments_lexer": "ipython3",
   "version": "3.12.7"
  }
 },
 "nbformat": 4,
 "nbformat_minor": 5
}
